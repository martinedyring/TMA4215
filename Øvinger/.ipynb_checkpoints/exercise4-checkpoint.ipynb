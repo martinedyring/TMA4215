{
 "cells": [
  {
   "cell_type": "markdown",
   "metadata": {},
   "source": [
    "___\n",
    "# Excercise 3\n",
    "**Name: Martine Dyring Hansen**\n",
    "____"
   ]
  },
  {
   "cell_type": "markdown",
   "metadata": {},
   "source": [
    "### Problem 1"
   ]
  },
  {
   "cell_type": "markdown",
   "metadata": {},
   "source": [
    "#### 1 a)"
   ]
  },
  {
   "cell_type": "markdown",
   "metadata": {},
   "source": [
    "**Compute the gradietn $\\nabla F$ and the Hessian $H_F$ of the Rosenbrock function $F: \\mathbb{R}^2 \\rightarrow \\mathbb{R}$ defined by $F(\\vec{x}) = 100(x_2 - x_1^2)^2 + (1-x_1)^2$.**"
   ]
  },
  {
   "cell_type": "markdown",
   "metadata": {},
   "source": [
    "Have that \n",
    "$$\n",
    "\\nabla F(\\vec{x}) = \\begin{pmatrix} \\frac{\\partial F}{\\partial x_1} \\\\ \\frac{\\partial F}{\\partial x_2} \\end{pmatrix}\n",
    "$$\n",
    "\n",
    "Compute the partial derivatives:\n",
    "$$\n",
    "\\begin{align}\n",
    "\\frac{\\partial F}{\\partial x_1} \n",
    "&= \\frac{\\partial }{\\partial x_1} \\left( 100(x_2 - x_1^2)^2 + (1-x_1)^2 \\right) \\\\\n",
    "&= 400 x_1 ( x_1^2 - x_2 ) + 2 ( x_1 - 1 )\n",
    "\\end{align}\n",
    "$$\n",
    "\n",
    "$$\n",
    "\\begin{align}\n",
    "\\frac{\\partial F}{\\partial x_2} \n",
    "&= \\frac{\\partial }{\\partial x_2} \\left( 100(x_2 - x_1^2)^2 + (1-x_1)^2 \\right) \\\\\n",
    "&= 200 ( x_2 - x_1^2 )\n",
    "\\end{align}\n",
    "$$\n",
    "\n",
    "such that the gradient reads\n",
    "$$\n",
    "\\Rightarrow \\nabla F(\\vec{x}) = \n",
    "\\begin{pmatrix} \n",
    "400 x_1 ( x_1^2 - x_2 ) + 2 ( x_1 - 1 ) \\\\ \n",
    "200 ( x_2 - x_1^2 )\n",
    "\\end{pmatrix}\n",
    "$$\n"
   ]
  },
  {
   "cell_type": "markdown",
   "metadata": {},
   "source": [
    "The hessian is given by\n",
    "$$\n",
    "H_F =\n",
    "\\begin{pmatrix}\n",
    "\\frac{\\partial^2 F}{\\partial x_1 \\partial x_1} & \\frac{\\partial^2 F}{\\partial x_1 \\partial x_2} \\\\\n",
    "\\frac{\\partial^2 F}{\\partial x_2 \\partial x_1} & \\frac{\\partial^2 F}{\\partial x_2 \\partial x_2}\n",
    "\\end{pmatrix}\n",
    "$$\n",
    "\n",
    "Compute the double partial derivatives:\n",
    "$$\n",
    "\\begin{align}\n",
    "\\frac{\\partial^2 F}{\\partial x_1 \\partial x_1} \n",
    "&= \\frac{\\partial}{\\partial x_1} \\frac{\\partial F}{\\partial x_1} \\\\\n",
    "&= \\frac{\\partial}{\\partial x_1} \\left( 400 x_1 ( x_1^2 - x_2 ) + 2 ( x_1 - 1 ) \\right) \\\\\n",
    "&= 400 ( 3 x_1^2 - x_2 ) + 2 \\\\\n",
    "\\\\\n",
    "\\frac{\\partial^2 F}{\\partial x_2 \\partial x_1} \n",
    "&= \\frac{\\partial}{\\partial x_2} \\frac{\\partial F}{\\partial x_1} \\\\\n",
    "&= \\frac{\\partial}{\\partial x_2} \\left( 400 x_1 ( x_1^2 - x_2 ) + 2 ( x_1 - 1 ) \\right) \\\\\n",
    "&= -400 x_1\\\\\n",
    "\\\\\n",
    "\\frac{\\partial^2 F}{\\partial x_1 \\partial x_2} \n",
    "&= \\frac{\\partial}{\\partial x_1} \\frac{\\partial F}{\\partial x_2} \\\\\n",
    "&= \\frac{\\partial}{\\partial x_1} \\left( 200 ( x_2 - x_1^2 )\\right) \\\\\n",
    "&= -400 x_1\\\\\n",
    "\\\\\n",
    "\\frac{\\partial^2 F}{\\partial x_2 \\partial x_2} \n",
    "&= \\frac{\\partial}{\\partial x_2} \\frac{\\partial F}{\\partial x_2} \\\\\n",
    "&= \\frac{\\partial}{\\partial x_2} \\left( 200 ( x_2 - x_1^2 )\\right) \\\\\n",
    "&= 200\n",
    "\\end{align}\n",
    "$$\n",
    "\n",
    "such that the Hessian yields\n",
    "\n",
    "$$\n",
    "\\Rightarrow H_F = \n",
    "\\begin{pmatrix} \n",
    "400 ( 3 x_1^2 - x_2 ) + 2  &  -400 x_1\\\\ \n",
    "-400 x_1 & 200\n",
    "\\end{pmatrix}\n",
    "$$"
   ]
  },
  {
   "cell_type": "markdown",
   "metadata": {},
   "source": [
    "**Show that $\\vec{x}^*=(1,1)^T$ is the only local minimizer of this function.**"
   ]
  },
  {
   "cell_type": "markdown",
   "metadata": {},
   "source": [
    "For a point $\\vec{x}^*$ to be a local minimizer, we need to show:\n",
    "*  $\\nabla F(\\vec{x}^*)=0$ $\\longrightarrow$ $\\vec{x}^*$ is a stationary point\n",
    "*  $\\nabla^2 F(\\vec{x}^*)>0$ $\\longrightarrow$ $\\vec{x}^*$ is minimizing\n",
    "\n",
    "Start by evaluating $\\nabla F(\\vec{x})=0$:\n",
    "$$\n",
    "\\begin{align}\n",
    "\\nabla F(\\vec{x}) = \\begin{pmatrix} \n",
    "400 x_1 ( x_1^2 - x_2 ) + 2 ( x_1 - 1 ) \\\\ \n",
    "200 ( x_2 - x_1^2 )\n",
    "\\end{pmatrix} = \\begin{pmatrix} \n",
    "0 \\\\\n",
    "0\n",
    "\\end{pmatrix}\n",
    "\\end{align}\n",
    "$$\n",
    "giving the system \n",
    "$$\n",
    "\\begin{align}\n",
    "(1): && 0 &= 200 ( x_2 - x_1^2) \\\\\n",
    "&& x_2 &= x_1^2 \\\\\n",
    "\\\\\n",
    "(2): && 0 &= 400 x_1 ( x_1^2 - x_2 ) + 2 (x_1 - 1 ) \\\\\n",
    "(1)\\rightarrow (2):&& 0 &= 400 x_1 ( x_1^2 - x_1^2 ) + 2 (x_1 - 1) \\\\\n",
    "&& x_1 &= 1\n",
    "\\end{align}\n",
    "$$\n",
    "Thus, for $\\nabla F = 0$, we require $x_1=1$ and $x_2=x_1^2$. It then follows that $\\vec{x}^*=(1,1)$ is the only local minimizer of this function $F$."
   ]
  },
  {
   "cell_type": "markdown",
   "metadata": {},
   "source": [
    "**Show that that the Hessian matrix at this point $\\vec{x}^*=(1,1)^T$ is positive definite.**"
   ]
  },
  {
   "cell_type": "markdown",
   "metadata": {},
   "source": [
    "Let us first evaluate $\\nabla^2 F(\\vec{x}^*)$:\n",
    "\n",
    "$$\n",
    "\\begin{align}\n",
    "\\nabla^2 F(\\vec{x}^*) \n",
    "&= H_F(\\vec{x}^*) \\\\\n",
    "&= \\begin{pmatrix} \n",
    "400 ( 3 \\cdot 1^2 - 1 ) + 2  &  -400 \\cdot 1\\\\ \n",
    "-400 \\cdot 1 & 200\n",
    "\\end{pmatrix} \\\\\n",
    "&= \\begin{pmatrix} \n",
    "802 & -400 \\\\\n",
    "-400 & 200\n",
    "\\end{pmatrix}\n",
    "\\end{align}\n",
    "$$\n",
    "\n",
    "Next, find the eigenvalues of $H_F$:\n",
    "$$\n",
    "\\begin{align}\n",
    "\\det{\\begin{pmatrix} \n",
    "802-\\lambda & -400 \\\\\n",
    "-400 & 200-\\lambda\n",
    "\\end{pmatrix}} &= 0 \\\\\n",
    "(802 - \\lambda)(200 - \\lambda) - 400\\cdot 400 &= 0 \\\\\n",
    "\\Rightarrow \\lambda_{+/-} &= 501 \\pm \\sqrt{250601}\n",
    "\\end{align}\n",
    "$$\n",
    "As all eigenvalues are positive, the matrix $H_F$ is positive definite."
   ]
  },
  {
   "cell_type": "markdown",
   "metadata": {},
   "source": [
    "#### 1 b)"
   ]
  },
  {
   "cell_type": "markdown",
   "metadata": {},
   "source": [
    "**Show that the function $G: \\mathbb{R}^2 \\rightarrow \\mathbb{R}$ defined by $G(\\vec{x}) = 8 x_1 + 12 x_2 + x_1^2 - 2 x_x^2$ has one stationary point which is neither a maximum nor a minimum.**"
   ]
  },
  {
   "cell_type": "markdown",
   "metadata": {},
   "source": [
    "We will first compute $\\nabla G(\\vec{x})=0$ to find all stationary point:\n",
    "$$\n",
    "\\begin{align}\n",
    "\\nabla G(\\vec{x}) \n",
    "= \\begin{pmatrix} \n",
    "\\frac{\\partial G}{\\partial x_1} \\\\ \n",
    "\\frac{\\partial G}{\\partial x_2} \n",
    "\\end{pmatrix}\n",
    "= \\begin{pmatrix} \n",
    "8 + 2 x_1 \\\\ \n",
    "12 - 4 x_2\n",
    "\\end{pmatrix}\n",
    "= \\begin{pmatrix} \n",
    "0 \\\\\n",
    "0\n",
    "\\end{pmatrix}\n",
    "\\end{align}\n",
    "$$\n",
    "\n",
    "$$\n",
    "\\begin{align}\n",
    "0 &= 12 - 4 x_2 &\\Rightarrow x_2 &= 3 \\\\\n",
    "0 &= 8 + 2 x_1 &\\Rightarrow x_1 &= -4\n",
    "\\end{align}\n",
    "$$\n",
    "\n",
    "Since there is one unique solution, the function $G(\\vec{x})$ has only one stationary point at $(-4, 3)$.\n",
    "\n",
    "Let us investigate the Hessian to evaluate the properties of this stationary point:\n",
    "\n",
    "$$\n",
    "H_G =\n",
    "\\begin{pmatrix}\n",
    "\\frac{\\partial^2 G}{\\partial x_1 \\partial x_1} & \\frac{\\partial^2 G}{\\partial x_1 \\partial x_2} \\\\\n",
    "\\frac{\\partial^2 G}{\\partial x_2 \\partial x_1} & \\frac{\\partial^2 G}{\\partial x_2 \\partial x_2}\n",
    "\\end{pmatrix}\n",
    "= \\begin{pmatrix}\n",
    "2 & 0 \\\\\n",
    "0 & -4\n",
    "\\end{pmatrix}\n",
    "$$\n",
    "\n",
    "The Eigenvales of the Hessian is then:\n",
    "$$\n",
    "\\begin{align}\n",
    "\\det{\\begin{pmatrix}\n",
    "2-\\lambda & 0 \\\\\n",
    "0 & -4-\\lambda\n",
    "\\end{pmatrix}}\n",
    "= - (2 - \\lambda)(4 + \\lambda) \n",
    "\\Rightarrow \\lambda_{+/-} =\n",
    "\\begin{cases}\n",
    "2 \\\\\n",
    "-4\n",
    "\\end{cases}\n",
    "\\end{align}\n",
    "$$\n",
    "\n",
    "Since the Hessian has both positive and negative eigenvalues (and non-zero), the stationary point neither a maximum nor a minimum but a saddel point.\n"
   ]
  },
  {
   "cell_type": "markdown",
   "metadata": {},
   "source": [
    "#### 1 c)"
   ]
  },
  {
   "cell_type": "markdown",
   "metadata": {},
   "source": [
    "**Use `pyplot` of `matplotlib` to plot `contour` plots on the unit square $\\Omega_1 = [-1, 1]^2$ for $F$ and on the unit square $\\Omega_2 = [-10, 10]^2$ for $G$**"
   ]
  },
  {
   "cell_type": "code",
   "execution_count": 1,
   "metadata": {},
   "outputs": [
    {
     "data": {
      "image/png": "[encoded data removed]",
      "text/plain": [
       "<Figure size 640x480 with 2 Axes>"
      ]
     },
     "metadata": {},
     "output_type": "display_data"
    },
    {
     "data": {
      "image/png": "[encoded data removed]",
      "text/plain": [
       "<Figure size 640x480 with 2 Axes>"
      ]
     },
     "metadata": {},
     "output_type": "display_data"
    }
   ],
   "source": [
    "import matplotlib.pyplot as plt\n",
    "import numpy as np\n",
    "\n",
    "# Define the functions\n",
    "def func_F(x, y):\n",
    "    return 100*(x-y**2)**2 + (1-x)**2\n",
    "\n",
    "def func_G(x, y):\n",
    "    return 8 * x + 12 * y + x**2 - 2 * y**2\n",
    "    \n",
    "# Plot\n",
    "funcs = [func_F, func_G]\n",
    "n_values = [200, 400]\n",
    "unit_squares = [[-1, 1], [-10, 10]]\n",
    "\n",
    "for i, params in enumerate(zip(funcs, n_values, unit_squares)):\n",
    "    \n",
    "    # Unpack params \n",
    "    func, n, unit = params\n",
    "    \n",
    "    # Unit square\n",
    "    x = np.linspace(*unit, n)\n",
    "    y = np.linspace(*unit, n)\n",
    "    X, Y = np.meshgrid(x, y)\n",
    "\n",
    "    # Third dimension is function evaluared in X, Y\n",
    "    Z = func(X, Y)\n",
    "\n",
    "    # Generate the contour plot\n",
    "    plt.contourf(X, Y, Z, 50)\n",
    "    plt.title(f'Contour plot of {func.__name__} on unit square')\n",
    "    plt.xlabel('x')\n",
    "    plt.ylabel('y')\n",
    "    plt.colorbar()\n",
    "    plt.grid(True)\n",
    "    plt.tight_layout()\n",
    "    plt.show()"
   ]
  },
  {
   "cell_type": "markdown",
   "metadata": {},
   "source": [
    "### Problem 2"
   ]
  },
  {
   "cell_type": "markdown",
   "metadata": {},
   "source": [
    "**The nonlinear system**\n",
    "$$\n",
    "\\begin{align}\n",
    "5 x_1^2 - x_2^2 &= 0 \\\\\n",
    "x_2 - \\frac{1}{4} \\left(\\sin(x_1) + \\cos(x_2) \\right) &= 0\n",
    "\\end{align}\n",
    "$$\n",
    "**has a solution $\\vec{x} = (x_1, x_2)$ close to $(0.1, 0.25)$. Find a vector-function $G$ and a rectangular set**\n",
    "$$\n",
    "D=\\{\\vec{x} \\in \\mathbb{R}^2: a \\leq x_1 \\leq b \\text{ and } c \\leq x_2 \\leq d \\}\n",
    "$$\n",
    "**for some suitable values $a, b, c, d \\in \\mathbb{R}$, such that the fixed point iteration**\n",
    "$$x^{(k+1)} = G(\\vec{x}^k)$$\n",
    "**converges to $\\vec{x} \\in D$ for all starting values $\\vec{x}^{(0)} \\in D$.**"
   ]
  },
  {
   "cell_type": "markdown",
   "metadata": {},
   "source": [
    "Seeking a system on the form $G(\\vec{x}) = \\vec{x}$. Let us rewrite the nonlinear system as\n",
    "$$\n",
    "\\begin{align}\n",
    "x_1 &= \\pm \\sqrt{\\frac{x_2^2}{5}} \\\\\n",
    "x_2 &= \\frac{1}{4} \\left(\\sin(x_1) + \\cos(x_2) \\right)\n",
    "\\end{align}\n",
    "$$\n",
    "Since our systen has a solution close to $(0.1, 0.25)$ which is on the positive half of $\\mathbb{R}^2$, let's continue with the assumption that there exist a $D$ with a rectangular set on the positive half as well.\n",
    "We will therefore continue with the positive root, and the systen can be described by the vector-function\n",
    "$$\n",
    "\\begin{align}\n",
    "G(\\vec{x}) \n",
    "&= \\vec{x} \\\\\n",
    "\\begin{bmatrix} \n",
    "\\frac{x_2}{\\sqrt{5}} \\\\\n",
    "\\frac{1}{4} \\left(\\sin(x_1) + \\cos(x_2) \\right)\n",
    "\\end{bmatrix} \n",
    "&=\n",
    "\\begin{bmatrix}\n",
    "x_1 \\\\ x_2 \\end{bmatrix}\n",
    "\\end{align}\n",
    "$$"
   ]
  },
  {
   "cell_type": "markdown",
   "metadata": {},
   "source": [
    "We have that the cosine and sinus is bounded from $-1$ to $1$, such that the second equation is bounded between $-1/2$ to $1/2$. Since we assume a rectangular set on the positive half it follows that:\n",
    "$$\n",
    "0 \\leq x_2 \\leq \\frac{1}{2} \\Rightarrow 0 \\leq x_1 \\leq \\frac{1}{2\\sqrt{5}}\n",
    "$$\n"
   ]
  },
  {
   "cell_type": "markdown",
   "metadata": {},
   "source": [
    "\n",
    "\n",
    "We know that the fix point iteration will converge if $G$ represent a contratictive mapping according to the Fix Point Theorem. That is\n",
    "$$\n",
    "\\parallel G(\\vec{x}) - G(\\vec{y}) \\parallel \\leq \\alpha \\parallel \\vec{x} - \\vec{y} \\parallel\n",
    "$$\n",
    "where $\\alpha$ is the Lipschitz constant.\n",
    "\n",
    "According to **Property 7.3** in the textbook [Quarteroni, Sacco, Saleri, Numerical Mathematics,\n",
    "2nd edition, Springer, 2007.], a spectral radius of the Jacobian less than 1, $\\parallel J_G(\\vec{x^*}) \\parallel_{\\infty} < 1$, implies that the fixed point iteration will converge within a suitable neighborhood of $\\vec{x^*}$. Let's start by checking this propetry at the fixed-point suggested by the problem description, $\\vec{x^*} = (0.1, 0.25)$:\n",
    "\n",
    "We start by computing the Jacobian\n",
    "$$\n",
    "\\begin{align}\n",
    "J_G(\\vec{x}) = \\begin{bmatrix} \n",
    "0 & \\frac{1}{\\sqrt{5}} \\\\\n",
    "\\frac{\\cos(x_1)}{4} & -\\frac{\\sin(x_2)}{4}\n",
    "\\end{bmatrix}\n",
    "\\end{align}\n",
    "$$\n",
    "\n",
    "thus the Eigenvalues of the Jacobian $J_G$ is\n",
    "$$\n",
    "\\lambda_{+/-} = -\\frac{1}{8} \\sin(x_2) \\pm \\frac{ \\sqrt{25 \\sin(x_2)^2 + 80 \\sqrt{5} \\cos(x_1)} }{40}\n",
    "$$\n",
    "\n",
    "such that \n",
    "\n",
    "$$\n",
    "\\begin{align}\n",
    "\\rho(J_G) \n",
    "&= \\max\\{\\mid\\lambda_{+}\\mid, \\mid\\lambda_{-}\\mid\\}  \\\\\n",
    "&= \\Biggm| -\\frac{1}{8} \\sin(x_2) + \\frac{ \\sqrt{25 \\sin(x_2)^2 + 80 \\sqrt{5} \\cos(x_1) } }{40} \\Biggm|\n",
    "\\end{align}\n",
    "$$\n",
    "Observe that $\\rho(J_G) < 1$ for all $x_1, x_2 \\in \\mathbb{R}$, including $\\vec{x^*} = (0.1, 0.25)$."
   ]
  },
  {
   "cell_type": "markdown",
   "metadata": {},
   "source": [
    "Furthermore, to find a sutible neighborhood (around our fixed-point) where $G$ converges, it is sufficent to check that $\\parallel J_G(x)\\parallel < 1$ for some matrix norm. Say $\\parallel J_G(x) \\parallel_\\infty$:\n",
    "\n",
    "$$ \n",
    "\\begin{align}\n",
    "\\parallel J_G(x) \\parallel_\\infty = \\max\\Big\\{\\frac{1}{\\sqrt{5}}, \\frac{\\cos(x_1)-\\sin(x_2)}{4}\\Big\\}\n",
    "\\end{align}\n",
    "$$\n",
    "\n",
    "Agian, since cosine and sinus is bounded by $-1$ and $1$, we have that \n",
    "$$\n",
    "-\\frac{1}{2} \\leq \\frac{\\cos(x_1)-\\sin(x_2)}{4} \\leq \\frac{1}{2}\n",
    "$$\n",
    "such that $\\parallel J_G(x) \\parallel_\\infty < 1$ for all $x_1, x_2 \\in \\mathbb{R}$, including $0 \\leq x_2 \\leq \\frac{1}{2}$ and $0 \\leq x_1 \\leq \\frac{1}{2\\sqrt{5}}$.\n",
    "\n",
    "Hence, we have that a rectangular set where $G$ converges is\n",
    "$$\n",
    "D=\\{\\vec{x} \\in \\mathbb{R}^2: 0 \\leq x_1 \\leq \\frac{1}{2} \\text{ and } 0 \\leq x_2 \\leq \\frac{1}{2\\sqrt{5}} \\}\n",
    "$$"
   ]
  },
  {
   "cell_type": "markdown",
   "metadata": {},
   "source": [
    "### Problem 3"
   ]
  },
  {
   "cell_type": "markdown",
   "metadata": {},
   "source": [
    "#### 3 a)"
   ]
  },
  {
   "cell_type": "markdown",
   "metadata": {},
   "source": [
    "**Implement a FIxed Point method `FixedPoint(G, x0, tol, maxiter)`.**"
   ]
  },
  {
   "cell_type": "code",
   "execution_count": 2,
   "metadata": {},
   "outputs": [],
   "source": [
    "import numpy as np\n",
    "\n",
    "def FixedPoint(G, x0, tol, maxiter):\n",
    "    \"\"\"\n",
    "    Multivariable fixed-point iteration\n",
    "\n",
    "    Args:\n",
    "        G (List[function]): Function of the system\n",
    "        x0 (np.ndarray): Inital guess array\n",
    "        tol (float): Tolerance for convergence\n",
    "        maxiter (int): Maximun numer of iterations\n",
    "\n",
    "    Raises:\n",
    "        RuntimeWarning: Raise warning if max iteration is reached\n",
    "            before interation converges.\n",
    "\n",
    "    Returns:\n",
    "        np.ndarray: An approximated solution (if the method converges)\n",
    "    \"\"\"\n",
    "    # --------------------------------------------------------\n",
    "\n",
    "    # Fix point equation: x = G(x)\n",
    "    \n",
    "    # --------------------------------------------------------\n",
    "    \n",
    "    # PSEUDO CODE: (lecture note 4-12)\n",
    "    # Let x^0 (in Rn) be a starting point. For each k=1, 2, ...\n",
    "    #   1. Determine a update direction d^k (in R^n)\n",
    "    #   2. Determine a step size alpha_k > 0\n",
    "    #   3. Update x^(k+1) = G(x^k) = x^k + alpha_k d^k\n",
    "    # and we have to specify a sutible stopping creterion.\n",
    "    \n",
    "    # --------------------------------------------------------\n",
    "    \n",
    "    # NOTATION:\n",
    "    #   x^k : x_old\n",
    "    #   x^(k+1) : x_new\n",
    "    \n",
    "    # --------------------------------------------------------\n",
    "    \n",
    "    x_old = x0.copy()\n",
    "    \n",
    "    for it in range(maxiter):\n",
    "        # Update x\n",
    "        x_new = G(*x_old)\n",
    "        \n",
    "        # Check the stopping criterion\n",
    "        # ERROR : x^(k+1) - G(x^(k)) = 0\n",
    "        error = np.linalg.norm(x_new - x_old)\n",
    "        if error < tol:\n",
    "            return x_new, it + 1\n",
    "        \n",
    "        x_old = x_new\n",
    "    \n",
    "    print(x_new)\n",
    "    raise RuntimeWarning(\n",
    "        f\"FixedPoint iteration did not converge \"\n",
    "        f\"before max iteration {maxiter} was reached.\"\n",
    "        )"
   ]
  },
  {
   "cell_type": "markdown",
   "metadata": {},
   "source": [
    "#### 3 b)"
   ]
  },
  {
   "cell_type": "markdown",
   "metadata": {},
   "source": [
    "**Implement Broyden's method `Broyden(F, JF, x0, tol, maxiter, alpha=1)`presented durinf the lecture.**"
   ]
  },
  {
   "cell_type": "code",
   "execution_count": 3,
   "metadata": {},
   "outputs": [],
   "source": [
    "import numpy as np\n",
    "\n",
    "def Broyden(F, JF, x0, tol, maxiter, alpha=1):\n",
    "    \"\"\"\n",
    "    Broyden method\n",
    "\n",
    "    Args:\n",
    "        F (List[function]): Function of the system\n",
    "        JF (List[List[function]]): Function of the Jacobian of the system\n",
    "        x0 (np.ndarray): Inital guess array\n",
    "        tol (float): Tolerance for convergence\n",
    "        maxiter (int): Maximun numer of iterations\n",
    "        alpha (int, optional): Step size. Defaults to 1.\n",
    "\n",
    "    Raises:\n",
    "        RuntimeWarning: Raise warning if max iteration is reached\n",
    "            before interation converges.\n",
    "\n",
    "    Returns:\n",
    "        np.ndarray: An approximated solution (if the method converges)\n",
    "    \"\"\"\n",
    "    \n",
    "    # --------------------------------------------------------\n",
    "    \n",
    "    # Motivation: (lecture 4-34, ):\n",
    "    # Since evaluatin the Jacobian JF(x0) is expensive\n",
    "    # -> replace it with some matrix B_k that is\n",
    "    #       B_k d_k = -F(x^k)\n",
    "    \n",
    "    # Broyden's method is an iterative technique used \n",
    "    # to find the root of a system of nonlinear equations. \n",
    "    # It's part of the class of quasi-Newton methods, \n",
    "    # which aim to approximate the inverse of the Jacobian \n",
    "    # without having to compute the Jacobian at every iteration.\n",
    "\n",
    "    \n",
    "    # --------------------------------------------------------\n",
    "    \n",
    "    # PSEUDO CODE: (lecture 4-39, ):\n",
    "    # Choose x^0 and some nonsingular B_0 (e.g. B_0 = J_F(x^0)).\n",
    "    # Then we repeat for k = 0, 1, ...\n",
    "    #   1. Solve B_k d^k = -F(x^k) for d^k\n",
    "    #   2. Set x^(k+1) = x^k + alpha_k d^k\n",
    "    #   3. Compute s^k = x^(k-1) -x^k\n",
    "    #   4. Compute y^k = F(x^(k+1) ) - F(x^k)\n",
    "    #   5. Update B_(k+1) = B_k + ( (y^k - B_k s^k) * (s^k)^T ) / ( (s^k)^T s^k )\n",
    "    \n",
    "    # --------------------------------------------------------\n",
    "    \n",
    "    # NOTATION:\n",
    "    #   x^k : x_old\n",
    "    #   x^(k+1) : x_new\n",
    "    #   and similar for s^k -> s_old, s^(k+1) - > s_new etc...\n",
    "    \n",
    "    # --------------------------------------------------------\n",
    "    \n",
    "    x_old = x0.copy()\n",
    "    B_old = JF(*x_old)  # Initial approximation to the inverse Jacobian\n",
    "    for it in range(maxiter):\n",
    "        \n",
    "        # Evaluate the function F at x^k\n",
    "        F_eval_x_old = F(*x_old)\n",
    "        \n",
    "        # Solve for the step direction\n",
    "        d_k = np.linalg.solve(B_old, -F_eval_x_old) # Ax=b where A=B, x=d, b=-F_eval_x_old\n",
    "        \n",
    "        # Update x\n",
    "        x_new = x_old + alpha * d_k\n",
    "        s_k = x_new - x_old\n",
    "        y_k = F(*x_new) - F_eval_x_old\n",
    "        \n",
    "        # Update the inverse Jacobian approximation\n",
    "        B_new = B_old + (np.outer(y_k - np.dot(B_old, s_k), s_k)) / np.dot(s_k, s_k)\n",
    "        \n",
    "        # Check the stopping criterion\n",
    "        # ERROR : F(x^(k+1)) = 0\n",
    "        error = np.linalg.norm(F_eval_x_old)\n",
    "        \n",
    "        if error < tol:\n",
    "            return x_new, it + 1\n",
    "        \n",
    "        # Update new to old before next iteration\n",
    "        x_old = x_new\n",
    "        B_old = B_new\n",
    "        \n",
    "        \n",
    "    raise RuntimeWarning(\n",
    "        f\"Broyden method did not converge \"\n",
    "        f\"before max iteration {maxiter} was reached.\"\n",
    "    )"
   ]
  },
  {
   "cell_type": "markdown",
   "metadata": {},
   "source": [
    "#### 3 c)"
   ]
  },
  {
   "cell_type": "markdown",
   "metadata": {},
   "source": [
    "**Compare them in terms of time and number of iterations when applied to the system above starting with the same initial value in the domain $D$ found in the previous problem. You can set**\n",
    "* `tol = `$10^{-7}$,\n",
    "* `maxiter = ` $5000$,\n",
    "* $x_0$ `=` $(0.1, 0.25)$."
   ]
  },
  {
   "cell_type": "code",
   "execution_count": 4,
   "metadata": {},
   "outputs": [
    {
     "name": "stdout",
     "output_type": "stream",
     "text": [
      "F(0.1, 0.25): \n",
      "(-0.01249999999999999)\n",
      "\n",
      "JF(0.1, 0.25): \n",
      "(1.0, -0.5) \n",
      "\n"
     ]
    }
   ],
   "source": [
    "# F(x) = 0\n",
    "\n",
    "F = lambda x, y: 5 * x**2 - y**2\n",
    "JF = lambda x, y: np.array([\n",
    "    10 * x,\n",
    "    -2 * y\n",
    "])\n",
    "\n",
    "print(f\"F(0.1, 0.25): \\n\"\n",
    "      f\"({F(0.1, 0.25)})\\n\")\n",
    "\n",
    "print(f\"JF(0.1, 0.25): \\n\"\n",
    "      f\"({JF(0.1, 0.25)[0]}, {JF(0.1, 0.25)[1]}) \\n\")"
   ]
  },
  {
   "cell_type": "code",
   "execution_count": 5,
   "metadata": {},
   "outputs": [
    {
     "name": "stdout",
     "output_type": "stream",
     "text": [
      "G(0.1, 0.25): \n",
      "(0.11180339887498948, 0.2671864595893682)\n",
      "\n",
      "JG(0.1, 0.25): \n",
      "(0.0, 0.447213595499958) \n",
      "(0.24875104131950646, -0.061850989813630734) \n",
      "\n"
     ]
    }
   ],
   "source": [
    "# G(x) = x\n",
    "\n",
    "G = lambda x, y: np.array([\n",
    "      y / np.sqrt(5), \n",
    "      1/4 * (np.sin(x) + np.cos(y))\n",
    "      ])\n",
    "\n",
    "JG = lambda x, y: np.array([\n",
    "      [0, np.sqrt(5)/5],\n",
    "      [np.cos(x) / 4, -np.sin(y) / 4]\n",
    "      ])\n",
    "\n",
    "print(f\"G(0.1, 0.25): \\n\"\n",
    "      f\"({G(0.1, 0.25)[0]}, {G(0.1, 0.25)[1]})\\n\")\n",
    "\n",
    "print(f\"JG(0.1, 0.25): \\n\"\n",
    "      f\"({JG(0.1, 0.25)[0][0]}, {JG(0.1, 0.25)[0][1]}) \\n\"\n",
    "      f\"({JG(0.1, 0.25)[1][0]}, {JG(0.1, 0.25)[1][1]}) \\n\")"
   ]
  },
  {
   "cell_type": "code",
   "execution_count": 6,
   "metadata": {},
   "outputs": [],
   "source": [
    "import time\n",
    "\n",
    "# Time fix point\n",
    "start = time.time()\n",
    "xn_fixpoint , iter_fixpoint = FixedPoint(G=G, x0=[0.1, 0.25], tol=1e-7, maxiter=5000)\n",
    "end = time.time()\n",
    "time_fixpoint = end - start \n",
    "\n",
    "\n",
    "# Time broyden\n",
    "start = time.time()\n",
    "xn_broyden , iter_broyden = Broyden(F=G, JF=JG, x0=[0.1, 0.25], tol=1e-7, maxiter=5000)\n",
    "end = time.time()\n",
    "time_broyden = end - start "
   ]
  },
  {
   "cell_type": "code",
   "execution_count": 10,
   "metadata": {},
   "outputs": [
    {
     "name": "stdout",
     "output_type": "stream",
     "text": [
      "Fixed Point: \n",
      "\tTime used: 0.00018310546875 s \n",
      "\tNumber of iterations: 13\n",
      "\tx_end: [0.1212419  0.27110516]\n",
      "Broyden: \n",
      "\tTime used: 0.00086212158203125 s \n",
      "\tNumber of iterations: 16\n",
      "\tx_end: [-1.57037572e+000  1.41876550e-130]\n"
     ]
    }
   ],
   "source": [
    "print(\n",
    "    f\"Fixed Point: \\n\"\n",
    "    f\"\\tTime used: {time_fixpoint} s \\n\"\n",
    "    f\"\\tNumber of iterations: {iter_fixpoint}\\n\"\n",
    "    f\"\\tx_end: {xn_fixpoint}\"\n",
    ")\n",
    "\n",
    "print(\n",
    "    f\"Broyden: \\n\"\n",
    "    f\"\\tTime used: {time_broyden} s \\n\"\n",
    "    f\"\\tNumber of iterations: {iter_broyden}\\n\"\n",
    "    f\"\\tx_end: {xn_broyden}\"\n",
    ")"
   ]
  },
  {
   "cell_type": "markdown",
   "metadata": {},
   "source": [
    "I observe that for this system, and with the specified convergence creterium, the Fixed-point iteration converges more quickly and with fewer iterations. However, our two abbroches do not converges to the same $x_{\\text{end}}$. The Broyden method is much closer to $(0,0)$ than the Fixed-point iteration. This can be due to a bad convergence creteritum for one or both methods."
   ]
  },
  {
   "cell_type": "code",
   "execution_count": null,
   "metadata": {},
   "outputs": [],
   "source": []
  }
 ],
 "metadata": {
  "kernelspec": {
   "display_name": "Python 3 (ipykernel)",
   "language": "python",
   "name": "python3"
  },
  "language_info": {
   "codemirror_mode": {
    "name": "ipython",
    "version": 3
   },
   "file_extension": ".py",
   "mimetype": "text/x-python",
   "name": "python",
   "nbconvert_exporter": "python",
   "pygments_lexer": "ipython3",
   "version": "3.11.4"
  }
 },
 "nbformat": 4,
 "nbformat_minor": 2
}
