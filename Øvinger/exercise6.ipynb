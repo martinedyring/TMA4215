{
 "cells": [
  {
   "cell_type": "markdown",
   "metadata": {},
   "source": [
    "___\n",
    "# Excercise 6\n",
    "**Name: Martine Dyring Hansen**\n",
    "____"
   ]
  },
  {
   "cell_type": "markdown",
   "metadata": {},
   "source": [
    "### Problem 1\n",
    "**In this task, we want to use the Romberg scheme to approximate the integral**\n",
    "$$\n",
    "\\int_0^3 \\frac{1}{2+2x}dx\n",
    "$$"
   ]
  },
  {
   "cell_type": "markdown",
   "metadata": {},
   "source": [
    "#### Task 1c)\n",
    "Implement the Romberg scheme in Python. Use your implementation to approximate\n",
    "the integral above using 6 steps of the Romberg scheme. How big is the error at the\n",
    "end?"
   ]
  },
  {
   "cell_type": "code",
   "execution_count": 57,
   "metadata": {},
   "outputs": [],
   "source": [
    "import numpy as np\n",
    "\n",
    "\n",
    "def composite_trapezoidal(f, a, b, h, n):\n",
    "    tmp_sum = np.array(\n",
    "        [f(a + j * h) for j in range(1, n)]\n",
    "    )  # sum goes to n-1, but python has zero index\n",
    "    return h / 2 * (f(a) + f(b) + 2 * np.sum(tmp_sum))\n",
    "\n",
    "\n",
    "def A_m0(f, a, b, m):\n",
    "    n = 2**m\n",
    "    h = (b - a) / n\n",
    "    return composite_trapezoidal(f=f, a=a, b=b, h=h, n=n)\n",
    "\n",
    "\n",
    "def A_mq(f, a, b, m, q):\n",
    "    if q == 0:\n",
    "        return A_m0(f=f, a=a, b=b, m=m)\n",
    "    A_mq_1 = A_mq(f=f, a=a, b=b, m=m, q=q - 1)\n",
    "    A_mq_2 = A_mq(f=f, a=a, b=b, m=m - 1, q=q - 1)\n",
    "    return (4 ** (q) * A_mq_1 - A_mq_2) / (4**q - 1)"
   ]
  },
  {
   "cell_type": "code",
   "execution_count": 72,
   "metadata": {},
   "outputs": [
    {
     "name": "stdout",
     "output_type": "stream",
     "text": [
      "A_00 = 0.94 - Error: 0.2443528194400547\n",
      "A_11 = 0.71 - Error: 0.019352819440054625\n",
      "A_22 = 0.69 - Error: 0.0015506216378569082\n",
      "A_33 = 0.69 - Error: 7.156197528390695e-05\n",
      "A_44 = 0.69 - Error: 1.5403758016896418e-06\n",
      "A_55 = 0.69 - Error: 1.363859536418488e-08\n",
      "A_66 = 0.69 - Error: 4.569189471226309e-11\n"
     ]
    }
   ],
   "source": [
    "a = 0\n",
    "b = 3\n",
    "f = lambda x: 1 / (2 + 2 * x)\n",
    "\n",
    "for i in range(7):\n",
    "    A_ii = A_mq(f=f, a=a, b=b, m=i, q=i)\n",
    "    E = np.abs(A_ii - np.log(2))\n",
    "    print(f\"A_{str(i)}{str(i)} = {np.round(A_ii, 2)} - Error: {E}\")"
   ]
  },
  {
   "cell_type": "code",
   "execution_count": null,
   "metadata": {},
   "outputs": [],
   "source": []
  }
 ],
 "metadata": {
  "kernelspec": {
   "display_name": "tma4215-f156P7Uz-py3.9",
   "language": "python",
   "name": "python3"
  },
  "language_info": {
   "codemirror_mode": {
    "name": "ipython",
    "version": 3
   },
   "file_extension": ".py",
   "mimetype": "text/x-python",
   "name": "python",
   "nbconvert_exporter": "python",
   "pygments_lexer": "ipython3",
   "version": "3.9.6"
  },
  "orig_nbformat": 4
 },
 "nbformat": 4,
 "nbformat_minor": 2
}
